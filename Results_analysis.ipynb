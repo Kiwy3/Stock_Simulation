{
  "cells": [
    {
      "cell_type": "markdown",
      "metadata": {
        "id": "ilj2iC-cdgZ6"
      },
      "source": [
        "# CL04 - Projet P24\n",
        "\n",
        "Dans le cadre de l'UE CL04, nous effectuons des simulations sur le stock d'un magasin, afin d'évaluer le résultat en fonction "
      ]
    },
    {
      "cell_type": "markdown",
      "metadata": {
        "id": "aKwV9d0_eCJj"
      },
      "source": [
        "## Import des données et librairies\n",
        "\n",
        "Dans un premier temps, nous allons importer les différentes librairies utilisées pour la suite :\n",
        "\n"
      ]
    },
    {
      "cell_type": "code",
      "execution_count": 2,
      "metadata": {
        "id": "vQLVhyhEdDgI"
      },
      "outputs": [],
      "source": [
        "import pandas as pd\n",
        "import matplotlib.pyplot as plt\n",
        "import numpy as np\n",
        "from os import listdir\n",
        "from os.path import isfile, join"
      ]
    },
    {
      "cell_type": "markdown",
      "metadata": {},
      "source": [
        "Ensuite, nous allons utiliser les 7 fichiers générés par les fichier stock_simulation.py et add_cost.py, pour répondre aux différentes questions."
      ]
    },
    {
      "cell_type": "code",
      "execution_count": 12,
      "metadata": {},
      "outputs": [
        {
          "data": {
            "text/plain": [
              "['STP2_CL04_export_1000_K10.csv',\n",
              " 'STP2_CL04_export_1000_K00.csv',\n",
              " 'STP2_CL04_export_1000_K20.csv',\n",
              " 'STP2_CL04_export_1000_K30.csv',\n",
              " 'STP2_CL04_export_1000_K40.csv',\n",
              " 'STP2_CL04_export_1000_K50.csv',\n",
              " 'STP2_CL04_export_1000_K60.csv']"
            ]
          },
          "metadata": {},
          "output_type": "display_data"
        }
      ],
      "source": [
        "path = \"G:\\\\Mon Drive\\\\COURS\\\\GI06\\\\IF29\\\\Stock_Simulation\\\\Export_stp2\"\n",
        "files = [f for f in listdir(path) if isfile(join(path, f))]\n",
        "display(files)"
      ]
    },
    {
      "cell_type": "markdown",
      "metadata": {},
      "source": [
        "### Paramètres valeurs"
      ]
    },
    {
      "cell_type": "code",
      "execution_count": 44,
      "metadata": {},
      "outputs": [],
      "source": [
        "lambda1 = 15 #Commande hors ligne\n",
        "lambda2 = 30 #Commande en ligne\n",
        "L = 1 #Délai de livraison approvisionnement\n",
        "W=1 # Délai acceptable pour une commande en ligne\n",
        "F=18 #Cout de passation de commande\n",
        "h = 0.05 #Cout de stockage\n",
        "p = 20 #Cout de perte unitaire\n",
        "b = 5 #Indemnité de retard\n",
        "Q = 180 #Quantité de commande\n",
        "r = 60 #Point de recommande"
      ]
    },
    {
      "cell_type": "markdown",
      "metadata": {},
      "source": [
        "Pour comprendre la suite, nous allons tout d'abord décrire les colonnes qui seront utilisés par la suite."
      ]
    },
    {
      "cell_type": "code",
      "execution_count": 42,
      "metadata": {},
      "outputs": [
        {
          "data": {
            "text/html": [
              "<div>\n",
              "<style scoped>\n",
              "    .dataframe tbody tr th:only-of-type {\n",
              "        vertical-align: middle;\n",
              "    }\n",
              "\n",
              "    .dataframe tbody tr th {\n",
              "        vertical-align: top;\n",
              "    }\n",
              "\n",
              "    .dataframe thead th {\n",
              "        text-align: right;\n",
              "    }\n",
              "</style>\n",
              "<table border=\"1\" class=\"dataframe\">\n",
              "  <thead>\n",
              "    <tr style=\"text-align: right;\">\n",
              "      <th></th>\n",
              "      <th>time</th>\n",
              "      <th>event_type</th>\n",
              "      <th>stock</th>\n",
              "      <th>attente</th>\n",
              "      <th>perte_magasin</th>\n",
              "      <th>deliv</th>\n",
              "      <th>late_cost</th>\n",
              "      <th>passation_cost</th>\n",
              "      <th>Time_gap</th>\n",
              "      <th>stock_cost</th>\n",
              "      <th>Loss_cost</th>\n",
              "      <th>Total_cost</th>\n",
              "      <th>Cum_cost</th>\n",
              "      <th>mean_cost</th>\n",
              "    </tr>\n",
              "  </thead>\n",
              "  <tbody>\n",
              "    <tr>\n",
              "      <th>0</th>\n",
              "      <td>0.000000</td>\n",
              "      <td>0</td>\n",
              "      <td>60</td>\n",
              "      <td>0</td>\n",
              "      <td>0</td>\n",
              "      <td>0</td>\n",
              "      <td>0.0</td>\n",
              "      <td>0</td>\n",
              "      <td>0.013976</td>\n",
              "      <td>0.041928</td>\n",
              "      <td>0</td>\n",
              "      <td>0.041928</td>\n",
              "      <td>0.041928</td>\n",
              "      <td>inf</td>\n",
              "    </tr>\n",
              "    <tr>\n",
              "      <th>1</th>\n",
              "      <td>0.013976</td>\n",
              "      <td>2</td>\n",
              "      <td>59</td>\n",
              "      <td>0</td>\n",
              "      <td>0</td>\n",
              "      <td>1</td>\n",
              "      <td>0.0</td>\n",
              "      <td>0</td>\n",
              "      <td>0.000028</td>\n",
              "      <td>0.000084</td>\n",
              "      <td>0</td>\n",
              "      <td>0.000084</td>\n",
              "      <td>0.042012</td>\n",
              "      <td>3.006014</td>\n",
              "    </tr>\n",
              "    <tr>\n",
              "      <th>2</th>\n",
              "      <td>0.014004</td>\n",
              "      <td>2</td>\n",
              "      <td>58</td>\n",
              "      <td>0</td>\n",
              "      <td>0</td>\n",
              "      <td>1</td>\n",
              "      <td>0.0</td>\n",
              "      <td>0</td>\n",
              "      <td>0.040593</td>\n",
              "      <td>0.117719</td>\n",
              "      <td>0</td>\n",
              "      <td>0.117719</td>\n",
              "      <td>0.159731</td>\n",
              "      <td>11.405751</td>\n",
              "    </tr>\n",
              "    <tr>\n",
              "      <th>3</th>\n",
              "      <td>0.054597</td>\n",
              "      <td>2</td>\n",
              "      <td>57</td>\n",
              "      <td>0</td>\n",
              "      <td>0</td>\n",
              "      <td>1</td>\n",
              "      <td>0.0</td>\n",
              "      <td>0</td>\n",
              "      <td>0.024283</td>\n",
              "      <td>0.069208</td>\n",
              "      <td>0</td>\n",
              "      <td>0.069208</td>\n",
              "      <td>0.228939</td>\n",
              "      <td>4.193223</td>\n",
              "    </tr>\n",
              "    <tr>\n",
              "      <th>4</th>\n",
              "      <td>0.078881</td>\n",
              "      <td>2</td>\n",
              "      <td>56</td>\n",
              "      <td>0</td>\n",
              "      <td>0</td>\n",
              "      <td>1</td>\n",
              "      <td>0.0</td>\n",
              "      <td>0</td>\n",
              "      <td>0.014046</td>\n",
              "      <td>0.039329</td>\n",
              "      <td>0</td>\n",
              "      <td>0.039329</td>\n",
              "      <td>0.268268</td>\n",
              "      <td>3.400930</td>\n",
              "    </tr>\n",
              "  </tbody>\n",
              "</table>\n",
              "</div>"
            ],
            "text/plain": [
              "       time  event_type  stock  attente  perte_magasin  deliv  late_cost  \\\n",
              "0  0.000000           0     60        0              0      0        0.0   \n",
              "1  0.013976           2     59        0              0      1        0.0   \n",
              "2  0.014004           2     58        0              0      1        0.0   \n",
              "3  0.054597           2     57        0              0      1        0.0   \n",
              "4  0.078881           2     56        0              0      1        0.0   \n",
              "\n",
              "   passation_cost  Time_gap  stock_cost  Loss_cost  Total_cost  Cum_cost  \\\n",
              "0               0  0.013976    0.041928          0    0.041928  0.041928   \n",
              "1               0  0.000028    0.000084          0    0.000084  0.042012   \n",
              "2               0  0.040593    0.117719          0    0.117719  0.159731   \n",
              "3               0  0.024283    0.069208          0    0.069208  0.228939   \n",
              "4               0  0.014046    0.039329          0    0.039329  0.268268   \n",
              "\n",
              "   mean_cost  \n",
              "0        inf  \n",
              "1   3.006014  \n",
              "2  11.405751  \n",
              "3   4.193223  \n",
              "4   3.400930  "
            ]
          },
          "metadata": {},
          "output_type": "display_data"
        }
      ],
      "source": [
        "#Put table in Pandas DataFrame\n",
        "K10_timeline = pd.read_csv(path + \"\\\\\"+files[0],index_col=0)\n",
        "display(K10_timeline.head())"
      ]
    },
    {
      "cell_type": "markdown",
      "metadata": {},
      "source": [
        "## Calcul des indicateurs de performance pour les paramètres de bases.\n",
        "\n",
        "Par défaut, le paramètre de priorisation K vaut 10, et c'est avec cette valeur que nous allons étudier l'évolution du stock (fichier STP2_CL04_export_1000_K10.csv )\n",
        "\n",
        "Les premiers indicateurs à étudier sont le niveau moyen de stock, le pourcentage de perte de commande en magasin, le pourcentage de commande en retard et le cout moyen total du stock. "
      ]
    },
    {
      "cell_type": "code",
      "execution_count": 43,
      "metadata": {},
      "outputs": [
        {
          "name": "stdout",
          "output_type": "stream",
          "text": [
            "Le niveau de stock moyen vaut :  103.80994024283368\n",
            "Le pourcentage de perte sur le magasin vaut :  0.005146557600545331\n",
            "Le pourcentage d'attente en ligne vaut :  0.007000804882956603\n",
            "Le cout moyen vaut :  11.257575676574929\n"
          ]
        }
      ],
      "source": [
        "#Niveau moyen de stock\n",
        "stock_avg = sum(K10_timeline[\"stock\"]*K10_timeline[\"Time_gap\"])/K10_timeline.time.max()\n",
        "print(\"Le niveau de stock moyen vaut : \",stock_avg)\n",
        "#Perte en magasin\n",
        "total_magasin = K10_timeline.where(K10_timeline.event_type == 1).deliv.count()\n",
        "perte_magasin = K10_timeline.where(K10_timeline.event_type == 1).perte_magasin.sum()\n",
        "perte_mag_ratio = perte_magasin/total_magasin\n",
        "print(\"Le pourcentage de perte sur le magasin vaut : \",perte_mag_ratio)\n",
        "#Attente en ligne\n",
        "total_ligne = K10_timeline.where(K10_timeline.event_type == 2).deliv.count()\n",
        "perte_ligne = K10_timeline.where(K10_timeline.event_type == 2).where(K10_timeline.deliv == 0).deliv.count()\n",
        "perte_ligne_ratio = perte_ligne/total_ligne\n",
        "print(\"Le pourcentage d'attente en ligne vaut : \",perte_ligne_ratio)\n",
        "#Cout total moyen \n",
        "avg_total_cost = K10_timeline.iloc[-1].mean_cost\n",
        "print(\"Le cout moyen vaut : \",avg_total_cost)"
      ]
    },
    {
      "cell_type": "markdown",
      "metadata": {},
      "source": [
        "Pour comprendre plus en détail le fonctionnement, nous pouvons faire un focus sur une période de quelques approvisionnement pour voir l'évolution du stock."
      ]
    },
    {
      "cell_type": "code",
      "execution_count": 55,
      "metadata": {},
      "outputs": [
        {
          "data": {
            "image/png": "[encoded data removed]",
            "text/plain": [
              "<Figure size 640x480 with 1 Axes>"
            ]
          },
          "metadata": {},
          "output_type": "display_data"
        }
      ],
      "source": [
        "Timeline = K10_timeline.loc[300:1000]\n",
        "K = 10\n",
        "\n",
        "def line_plot(x,serie,col=\"black\",al=1 ,lab = \"\"):\n",
        "    plt.plot([0,max(serie)],[x,x],c=col,alpha = al,label = lab)\n",
        "\n",
        "\n",
        "\n",
        "#Plot the stock\n",
        "plt.plot(Timeline.time, Timeline.stock,label = \"Stock\")\n",
        "plt.plot(Timeline.time, Timeline.attente,label = \"attente\")\n",
        "line_plot(stock_avg,Timeline.time,\"black\",0.8,\"Average\")\n",
        "line_plot(r,Timeline.time,\"red\",0.6,\"Recommend threshold\")\n",
        "line_plot(K,Timeline.time,\"orange\",0.6,\"Priority threshold\")\n",
        "plt.title(\"Stock evolution over time\")\n",
        "plt.xlim(min(Timeline.time),max(Timeline.time))\n",
        "plt.ylim(min(Timeline.stock),max(Timeline.stock)+40)\n",
        "plt.legend()\n",
        "plt.show()"
      ]
    },
    {
      "cell_type": "code",
      "execution_count": null,
      "metadata": {},
      "outputs": [],
      "source": [
        "#Plot the cost\n",
        "plt.plot(Timeline.time,Timeline.mean_cost)\n",
        "plt.show()"
      ]
    }
  ],
  "metadata": {
    "colab": {
      "provenance": [],
      "toc_visible": true
    },
    "kernelspec": {
      "display_name": "Python 3",
      "name": "python3"
    },
    "language_info": {
      "codemirror_mode": {
        "name": "ipython",
        "version": 3
      },
      "file_extension": ".py",
      "mimetype": "text/x-python",
      "name": "python",
      "nbconvert_exporter": "python",
      "pygments_lexer": "ipython3",
      "version": "3.12.3"
    }
  },
  "nbformat": 4,
  "nbformat_minor": 0
}
